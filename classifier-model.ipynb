{
 "cells": [
  {
   "cell_type": "code",
   "execution_count": 1,
   "metadata": {},
   "outputs": [],
   "source": [
    "import numpy as np\n",
    "import pandas as pd\n",
    "import matplotlib.pyplot as plt\n",
    "from sklearn.naive_bayes import MultinomialNB\n",
    "from sklearn.multiclass import OneVsRestClassifier\n",
    "from sklearn import metrics\n",
    "import warnings\n",
    "warnings.filterwarnings('ignore')\n",
    "from sklearn.metrics import accuracy_score\n",
    "from pandas.plotting import scatter_matrix\n",
    "from sklearn.neighbors import KNeighborsClassifier\n",
    "from sklearn import metrics"
   ]
  },
  {
   "cell_type": "code",
   "execution_count": 2,
   "metadata": {},
   "outputs": [
    {
     "data": {
      "text/html": [
       "<div>\n",
       "<style scoped>\n",
       "    .dataframe tbody tr th:only-of-type {\n",
       "        vertical-align: middle;\n",
       "    }\n",
       "\n",
       "    .dataframe tbody tr th {\n",
       "        vertical-align: top;\n",
       "    }\n",
       "\n",
       "    .dataframe thead th {\n",
       "        text-align: right;\n",
       "    }\n",
       "</style>\n",
       "<table border=\"1\" class=\"dataframe\">\n",
       "  <thead>\n",
       "    <tr style=\"text-align: right;\">\n",
       "      <th></th>\n",
       "      <th>Category</th>\n",
       "      <th>Resume</th>\n",
       "      <th>filtered_resume</th>\n",
       "    </tr>\n",
       "  </thead>\n",
       "  <tbody>\n",
       "    <tr>\n",
       "      <th>0</th>\n",
       "      <td>Data Science</td>\n",
       "      <td>Skills * Programming Languages: Python (pandas...</td>\n",
       "      <td></td>\n",
       "    </tr>\n",
       "    <tr>\n",
       "      <th>1</th>\n",
       "      <td>Data Science</td>\n",
       "      <td>Education Details \\r\\nMay 2013 to May 2017 B.E...</td>\n",
       "      <td></td>\n",
       "    </tr>\n",
       "    <tr>\n",
       "      <th>2</th>\n",
       "      <td>Data Science</td>\n",
       "      <td>Areas of Interest Deep Learning, Control Syste...</td>\n",
       "      <td></td>\n",
       "    </tr>\n",
       "    <tr>\n",
       "      <th>3</th>\n",
       "      <td>Data Science</td>\n",
       "      <td>Skills â¢ R â¢ Python â¢ SAP HANA â¢ Table...</td>\n",
       "      <td></td>\n",
       "    </tr>\n",
       "    <tr>\n",
       "      <th>4</th>\n",
       "      <td>Data Science</td>\n",
       "      <td>Education Details \\r\\n MCA   YMCAUST,  Faridab...</td>\n",
       "      <td></td>\n",
       "    </tr>\n",
       "  </tbody>\n",
       "</table>\n",
       "</div>"
      ],
      "text/plain": [
       "       Category                                             Resume  \\\n",
       "0  Data Science  Skills * Programming Languages: Python (pandas...   \n",
       "1  Data Science  Education Details \\r\\nMay 2013 to May 2017 B.E...   \n",
       "2  Data Science  Areas of Interest Deep Learning, Control Syste...   \n",
       "3  Data Science  Skills â¢ R â¢ Python â¢ SAP HANA â¢ Table...   \n",
       "4  Data Science  Education Details \\r\\n MCA   YMCAUST,  Faridab...   \n",
       "\n",
       "  filtered_resume  \n",
       "0                  \n",
       "1                  \n",
       "2                  \n",
       "3                  \n",
       "4                  "
      ]
     },
     "execution_count": 2,
     "metadata": {},
     "output_type": "execute_result"
    }
   ],
   "source": [
    "resumeDataSet = pd.read_csv(r\"/home/shreyash/Desktop/datasets_118409_284260_resume_dataset.csv\")\n",
    "resumeDataSet['filtered_resume'] = ''\n",
    "resumeDataSet.head()"
   ]
  },
  {
   "cell_type": "code",
   "execution_count": 3,
   "metadata": {
    "scrolled": true
   },
   "outputs": [
    {
     "name": "stdout",
     "output_type": "stream",
     "text": [
      "Displaying the distinct categories of resume-\n",
      "['Data Science' 'HR' 'Advocate' 'Arts' 'Web Designing'\n",
      " 'Mechanical Engineer' 'Sales' 'Health and fitness' 'Civil Engineer'\n",
      " 'Java Developer' 'Business Analyst' 'SAP Developer' 'Automation Testing'\n",
      " 'Electrical Engineering' 'Operations Manager' 'Python Developer'\n",
      " 'DevOps Engineer' 'Network Security Engineer' 'PMO' 'Database' 'Hadoop'\n",
      " 'ETL Developer' 'DotNet Developer' 'Blockchain' 'Testing']\n"
     ]
    }
   ],
   "source": [
    "print (\"Displaying the distinct categories of resume-\")\n",
    "print (resumeDataSet['Category'].unique())\n"
   ]
  },
  {
   "cell_type": "code",
   "execution_count": 4,
   "metadata": {},
   "outputs": [
    {
     "name": "stdout",
     "output_type": "stream",
     "text": [
      "Displaying the distinct categories of resume and the number of records belonging to each category-\n",
      "Java Developer               14\n",
      "HR                           11\n",
      "Database                     11\n",
      "Data Science                 10\n",
      "Advocate                     10\n",
      "Testing                       7\n",
      "Hadoop                        7\n",
      "DotNet Developer              7\n",
      "Automation Testing            7\n",
      "DevOps Engineer               7\n",
      "Arts                          6\n",
      "Python Developer              6\n",
      "SAP Developer                 6\n",
      "Health and fitness            6\n",
      "Business Analyst              6\n",
      "Civil Engineer                6\n",
      "ETL Developer                 5\n",
      "Network Security Engineer     5\n",
      "Web Designing                 5\n",
      "Blockchain                    5\n",
      "Mechanical Engineer           5\n",
      "Sales                         5\n",
      "Electrical Engineering        5\n",
      "Operations Manager            4\n",
      "PMO                           3\n",
      "Name: Category, dtype: int64\n"
     ]
    }
   ],
   "source": [
    "print (\"Displaying the distinct categories of resume and the number of records belonging to each category-\")\n",
    "print (resumeDataSet['Category'].value_counts())\n",
    "\n",
    "\n"
   ]
  },
  {
   "cell_type": "code",
   "execution_count": 5,
   "metadata": {},
   "outputs": [
    {
     "data": {
      "text/plain": [
       "<matplotlib.axes._subplots.AxesSubplot at 0x7f98dd7d0ed0>"
      ]
     },
     "execution_count": 5,
     "metadata": {},
     "output_type": "execute_result"
    },
    {
     "data": {
      "image/png": "[encoded data removed]",
      "text/plain": [
       "<Figure size 1296x1296 with 1 Axes>"
      ]
     },
     "metadata": {
      "needs_background": "light"
     },
     "output_type": "display_data"
    }
   ],
   "source": [
    "import seaborn as sns\n",
    "plt.figure(figsize=(18,18))\n",
    "plt.xticks(rotation=0)\n",
    "sns.countplot(y=\"Category\", data=resumeDataSet)\n"
   ]
  },
  {
   "cell_type": "code",
   "execution_count": 6,
   "metadata": {},
   "outputs": [],
   "source": [
    "import re\n",
    "def cleanResume(resumeText):\n",
    "    resumeText = re.sub('http\\S+\\s*', ' ', resumeText)  \n",
    "    resumeText = re.sub('RT|cc', ' ', resumeText)  \n",
    "    resumeText = re.sub('#\\S+', '', resumeText) \n",
    "    resumeText = re.sub('@\\S+', '  ', resumeText)\n",
    "    resumeText = re.sub('[%s]' % re.escape(\"\"\"!\"#$%&'()*+,-./:;<=>?@[\\]^_`{|}~\"\"\"), ' ', resumeText)  \n",
    "    resumeText = re.sub('\\s+', ' ', resumeText)\n",
    "    resumeText = re.sub('â¢', ' ', resumeText)\n",
    "    return resumeText"
   ]
  },
  {
   "cell_type": "code",
   "execution_count": 7,
   "metadata": {},
   "outputs": [
    {
     "name": "stdout",
     "output_type": "stream",
     "text": [
      "TECHNICAL SKILLS â¢ Typewriting â¢ TORA â¢ SPSSEducation Details January 2017 MBA Chidambaram Tamil Nadu SNS College of Engineering January 2014 HSC at SAV Higher Secondary School MBA SNS College of Engineering SSLC Finance at Kamaraj Matriculation SchoolHRSkill Details Human resource Finance Exprience Less than 1 year monthsCompany Details company description \n"
     ]
    }
   ],
   "source": [
    "resumeDataSet['filtered_resume'] = resumeDataSet.Resume.apply(lambda x: cleanResume(x))\n",
    "print (resumeDataSet['filtered_resume'][10])"
   ]
  },
  {
   "cell_type": "code",
   "execution_count": 8,
   "metadata": {},
   "outputs": [
    {
     "name": "stdout",
     "output_type": "stream",
     "text": [
      "CONVERTED THE CATEGORICAL VARIABLES INTO NUMERICALS\n"
     ]
    }
   ],
   "source": [
    "from sklearn.preprocessing import LabelEncoder\n",
    "\n",
    "var_mod = ['Category']\n",
    "le = LabelEncoder()\n",
    "for i in var_mod:\n",
    "    resumeDataSet[i] = le.fit_transform(resumeDataSet[i])\n",
    "print (\"CONVERTED THE CATEGORICAL VARIABLES INTO NUMERICALS\")"
   ]
  },
  {
   "cell_type": "code",
   "execution_count": 9,
   "metadata": {},
   "outputs": [
    {
     "name": "stdout",
     "output_type": "stream",
     "text": [
      "Feature completed .....\n",
      "(135, 1500)\n",
      "(34, 1500)\n"
     ]
    }
   ],
   "source": [
    "from sklearn.model_selection import train_test_split\n",
    "from sklearn.feature_extraction.text import TfidfVectorizer\n",
    "from scipy.sparse import hstack\n",
    "\n",
    "requiredText = resumeDataSet['filtered_resume'].values\n",
    "requiredTarget = resumeDataSet['Category'].values\n",
    "\n",
    "\n",
    "word_vectorizer = TfidfVectorizer(\n",
    "    sublinear_tf=True,\n",
    "    stop_words='english',\n",
    "    max_features=1500)\n",
    "word_vectorizer.fit(requiredText)\n",
    "WordFeatures = word_vectorizer.transform(requiredText)\n",
    "\n",
    "print (\"Feature completed .....\")\n",
    "\n",
    "X_train,X_test,y_train,y_test = train_test_split(WordFeatures,requiredTarget,random_state=0, test_size=0.2)\n",
    "print(X_train.shape)\n",
    "print(X_test.shape)\n"
   ]
  },
  {
   "cell_type": "code",
   "execution_count": 10,
   "metadata": {},
   "outputs": [
    {
     "name": "stdout",
     "output_type": "stream",
     "text": [
      "Accuracy of KNeighbors Classifier on training set: 0.89\n",
      "Accuracy of KNeighbors Classifier on test set: 0.79\n",
      "\n",
      " Classification report for classifier OneVsRestClassifier(estimator=KNeighborsClassifier(algorithm='auto',\n",
      "                                                   leaf_size=30,\n",
      "                                                   metric='minkowski',\n",
      "                                                   metric_params=None,\n",
      "                                                   n_jobs=None, n_neighbors=5,\n",
      "                                                   p=2, weights='uniform'),\n",
      "                    n_jobs=None):\n",
      "              precision    recall  f1-score   support\n",
      "\n",
      "           0       1.00      1.00      1.00         1\n",
      "           1       0.00      0.00      0.00         1\n",
      "           2       1.00      0.50      0.67         2\n",
      "           3       1.00      1.00      1.00         1\n",
      "           5       1.00      1.00      1.00         1\n",
      "           6       1.00      1.00      1.00         3\n",
      "           7       0.50      1.00      0.67         1\n",
      "           9       1.00      1.00      1.00         4\n",
      "          11       1.00      0.33      0.50         3\n",
      "          13       1.00      1.00      1.00         2\n",
      "          14       1.00      0.67      0.80         3\n",
      "          15       1.00      1.00      1.00         2\n",
      "          16       1.00      1.00      1.00         1\n",
      "          17       1.00      0.50      0.67         2\n",
      "          18       0.00      0.00      0.00         0\n",
      "          19       0.00      0.00      0.00         0\n",
      "          20       0.75      1.00      0.86         3\n",
      "          21       1.00      1.00      1.00         1\n",
      "          22       1.00      1.00      1.00         1\n",
      "          23       0.00      0.00      0.00         1\n",
      "          24       1.00      1.00      1.00         1\n",
      "\n",
      "    accuracy                           0.79        34\n",
      "   macro avg       0.77      0.71      0.72        34\n",
      "weighted avg       0.90      0.79      0.82        34\n",
      "\n",
      "\n"
     ]
    }
   ],
   "source": [
    "clf = OneVsRestClassifier(KNeighborsClassifier())\n",
    "clf.fit(X_train, y_train)\n",
    "prediction = clf.predict(X_test)\n",
    "print('Accuracy of KNeighbors Classifier on training set: {:.2f}'.format(clf.score(X_train, y_train)))\n",
    "print('Accuracy of KNeighbors Classifier on test set: {:.2f}'.format(clf.score(X_test, y_test)))\n",
    "\n",
    "print(\"\\n Classification report for classifier %s:\\n%s\\n\" % (clf, metrics.classification_report(y_test, prediction)))\n",
    "\n",
    "\n"
   ]
  },
  {
   "cell_type": "code",
   "execution_count": 11,
   "metadata": {},
   "outputs": [
    {
     "data": {
      "text/html": [
       "<div>\n",
       "<style scoped>\n",
       "    .dataframe tbody tr th:only-of-type {\n",
       "        vertical-align: middle;\n",
       "    }\n",
       "\n",
       "    .dataframe tbody tr th {\n",
       "        vertical-align: top;\n",
       "    }\n",
       "\n",
       "    .dataframe thead th {\n",
       "        text-align: right;\n",
       "    }\n",
       "</style>\n",
       "<table border=\"1\" class=\"dataframe\">\n",
       "  <thead>\n",
       "    <tr style=\"text-align: right;\">\n",
       "      <th></th>\n",
       "      <th>Category</th>\n",
       "      <th>Resume</th>\n",
       "      <th>Domain</th>\n",
       "    </tr>\n",
       "  </thead>\n",
       "  <tbody>\n",
       "    <tr>\n",
       "      <th>0</th>\n",
       "      <td>Data Science</td>\n",
       "      <td>Skills * Programming Languages: Python (pandas...</td>\n",
       "      <td></td>\n",
       "    </tr>\n",
       "    <tr>\n",
       "      <th>1</th>\n",
       "      <td>Data Science</td>\n",
       "      <td>Education Details \\r\\nMay 2013 to May 2017 B.E...</td>\n",
       "      <td></td>\n",
       "    </tr>\n",
       "    <tr>\n",
       "      <th>2</th>\n",
       "      <td>Data Science</td>\n",
       "      <td>Areas of Interest Deep Learning, Control Syste...</td>\n",
       "      <td></td>\n",
       "    </tr>\n",
       "    <tr>\n",
       "      <th>3</th>\n",
       "      <td>Data Science</td>\n",
       "      <td>Skills â¢ R â¢ Python â¢ SAP HANA â¢ Table...</td>\n",
       "      <td></td>\n",
       "    </tr>\n",
       "    <tr>\n",
       "      <th>4</th>\n",
       "      <td>Data Science</td>\n",
       "      <td>Education Details \\r\\n MCA   YMCAUST,  Faridab...</td>\n",
       "      <td></td>\n",
       "    </tr>\n",
       "  </tbody>\n",
       "</table>\n",
       "</div>"
      ],
      "text/plain": [
       "       Category                                             Resume Domain\n",
       "0  Data Science  Skills * Programming Languages: Python (pandas...       \n",
       "1  Data Science  Education Details \\r\\nMay 2013 to May 2017 B.E...       \n",
       "2  Data Science  Areas of Interest Deep Learning, Control Syste...       \n",
       "3  Data Science  Skills â¢ R â¢ Python â¢ SAP HANA â¢ Table...       \n",
       "4  Data Science  Education Details \\r\\n MCA   YMCAUST,  Faridab...       "
      ]
     },
     "execution_count": 11,
     "metadata": {},
     "output_type": "execute_result"
    }
   ],
   "source": [
    "resumeDataSet = pd.read_csv(r\"/home/shreyash/Desktop/datasets_118409_284260_resume_dataset.csv\")\n",
    "resumeDataSet['Domain'] = ''\n",
    "resumeDataSet.head()"
   ]
  },
  {
   "cell_type": "code",
   "execution_count": 12,
   "metadata": {},
   "outputs": [
    {
     "name": "stdout",
     "output_type": "stream",
     "text": [
      "        Category                                             Resume  \\\n",
      "0   Data Science  Skills * Programming Languages: Python (pandas...   \n",
      "1   Data Science  Education Details \\r\\nMay 2013 to May 2017 B.E...   \n",
      "2   Data Science  Areas of Interest Deep Learning, Control Syste...   \n",
      "3   Data Science  Skills â¢ R â¢ Python â¢ SAP HANA â¢ Table...   \n",
      "4   Data Science  Education Details \\r\\n MCA   YMCAUST,  Faridab...   \n",
      "5   Data Science  SKILLS C Basics, IOT, Python, MATLAB, Data Sci...   \n",
      "6   Data Science  Skills â¢ Python â¢ Tableau â¢ Data Visuali...   \n",
      "7   Data Science  Education Details \\r\\n B.Tech   Rayat and Bahr...   \n",
      "8   Data Science  Personal Skills â¢ Ability to quickly grasp t...   \n",
      "9   Data Science  Expertise â Data and Quantitative Analysis â...   \n",
      "10            HR  TECHNICAL SKILLS â¢ Typewriting â¢ TORA â¢ ...   \n",
      "11            HR  I.T. Skills â¢ Windows XP, Ms Office (Word, E...   \n",
      "12            HR  Education Details \\r\\n BA   mumbai UniversityH...   \n",
      "13            HR  Education Details \\r\\nJune 2012 to May 2015 B....   \n",
      "14            HR  Education Details \\r\\nJune 2012 to May 2015 B....   \n",
      "15            HR  Education Details \\r\\n BBA   lovely profession...   \n",
      "16            HR  Education Details \\r\\n MBA   ACN College of en...   \n",
      "17            HR  KEY SKILLS: â¢ Computerized accounting with t...   \n",
      "18            HR  Training in Special Education (Certificate Cou...   \n",
      "19            HR  Computer Knowledge: â¢ Proficient in basic us...   \n",
      "\n",
      "                   Domain  \n",
      "0   Information Technlogy  \n",
      "1   Information Technlogy  \n",
      "2   Information Technlogy  \n",
      "3   Information Technlogy  \n",
      "4   Information Technlogy  \n",
      "5   Information Technlogy  \n",
      "6   Information Technlogy  \n",
      "7   Information Technlogy  \n",
      "8   Information Technlogy  \n",
      "9   Information Technlogy  \n",
      "10                     HR  \n",
      "11                     HR  \n",
      "12                     HR  \n",
      "13                     HR  \n",
      "14                     HR  \n",
      "15                     HR  \n",
      "16                     HR  \n",
      "17                     HR  \n",
      "18                     HR  \n",
      "19                     HR  \n"
     ]
    }
   ],
   "source": [
    "def mapCategory(category):\n",
    "    if category == 'Civil Engineer':\n",
    "        return \"Civil Engineer\"\n",
    "    elif category == \"Electrical Engineering\":\n",
    "        return \"Electrical Engineering\"\n",
    "    elif category == \"HR\":\n",
    "        return \"HR\"\n",
    "    elif category == \"Health and fitness\":\n",
    "        return \"Health and fitness\"\n",
    "    elif category == \"Business Analyst\":\n",
    "        return \"Business Analyst\"\n",
    "    elif category == \"Mechanical Engineer\":\n",
    "        return \"Mechanical Engineer\"\n",
    "    elif category == \"Arts\":\n",
    "        return \"Arts\"\n",
    "    elif category == \"PMO\":\n",
    "        return \"PMO\"\n",
    "    elif category == \"NONE\":\n",
    "        return \"others\"\n",
    "    else:\n",
    "        return \"Information Technlogy\"\n",
    "\n",
    "\n",
    "resumeDataSet['Domain'] = resumeDataSet.Category.apply(lambda x: mapCategory(x))\n",
    "print (resumeDataSet.head(20))"
   ]
  },
  {
   "cell_type": "code",
   "execution_count": 13,
   "metadata": {},
   "outputs": [
    {
     "name": "stdout",
     "output_type": "stream",
     "text": [
      "Feature completed .....\n",
      "(135, 34)\n",
      "(34, 34)\n"
     ]
    }
   ],
   "source": [
    "from sklearn.model_selection import train_test_split\n",
    "from sklearn.feature_extraction.text import TfidfVectorizer\n",
    "from scipy.sparse import hstack\n",
    "\n",
    "requiredText = resumeDataSet['Category'].values\n",
    "requiredTarget = resumeDataSet['Domain'].values\n",
    "\n",
    "\n",
    "word_vectorizer = TfidfVectorizer(\n",
    "    sublinear_tf=True,\n",
    "    stop_words='english',\n",
    "    max_features=1500)\n",
    "word_vectorizer.fit(requiredText)\n",
    "WordFeatures = word_vectorizer.transform(requiredText)\n",
    "\n",
    "print (\"Feature completed .....\")\n",
    "\n",
    "X_train,X_test,y_train,y_test = train_test_split(WordFeatures,requiredTarget,random_state=0, test_size=0.2)\n",
    "print(X_train.shape)\n",
    "print(X_test.shape)"
   ]
  },
  {
   "cell_type": "code",
   "execution_count": 14,
   "metadata": {},
   "outputs": [
    {
     "name": "stdout",
     "output_type": "stream",
     "text": [
      "Accuracy of KNeighbors Classifier on training set: 0.99\n",
      "Accuracy of KNeighbors Classifier on test set: 0.91\n",
      "\n",
      " Classification report for classifier OneVsRestClassifier(estimator=KNeighborsClassifier(algorithm='auto',\n",
      "                                                   leaf_size=30,\n",
      "                                                   metric='minkowski',\n",
      "                                                   metric_params=None,\n",
      "                                                   n_jobs=None, n_neighbors=5,\n",
      "                                                   p=2, weights='uniform'),\n",
      "                    n_jobs=None):\n",
      "                        precision    recall  f1-score   support\n",
      "\n",
      "                  Arts       1.00      1.00      1.00         1\n",
      "        Civil Engineer       1.00      1.00      1.00         1\n",
      "Electrical Engineering       0.00      0.00      0.00         3\n",
      "    Health and fitness       1.00      1.00      1.00         3\n",
      " Information Technlogy       0.89      1.00      0.94        25\n",
      "   Mechanical Engineer       1.00      1.00      1.00         1\n",
      "\n",
      "              accuracy                           0.91        34\n",
      "             macro avg       0.82      0.83      0.82        34\n",
      "          weighted avg       0.83      0.91      0.87        34\n",
      "\n",
      "\n"
     ]
    }
   ],
   "source": [
    "clf = OneVsRestClassifier(KNeighborsClassifier())\n",
    "clf.fit(X_train, y_train)\n",
    "prediction = clf.predict(X_test)\n",
    "print('Accuracy of KNeighbors Classifier on training set: {:.2f}'.format(clf.score(X_train, y_train)))\n",
    "print('Accuracy of KNeighbors Classifier on test set: {:.2f}'.format(clf.score(X_test, y_test)))\n",
    "\n",
    "print(\"\\n Classification report for classifier %s:\\n%s\\n\" % (clf, metrics.classification_report(y_test, prediction)))\n"
   ]
  },
  {
   "cell_type": "code",
   "execution_count": 15,
   "metadata": {},
   "outputs": [],
   "source": [
    "import pickle "
   ]
  },
  {
   "cell_type": "code",
   "execution_count": 16,
   "metadata": {},
   "outputs": [],
   "source": [
    "with open('resumeDataSet_pickle.pkl', 'wb') as file:\n",
    "    pickle.dump(resumeDataSet,file)"
   ]
  },
  {
   "cell_type": "code",
   "execution_count": 17,
   "metadata": {},
   "outputs": [],
   "source": [
    "with open('resumeDataSet_pickle.pkl','rb') as f:\n",
    "    jp = pickle.load(f)"
   ]
  },
  {
   "cell_type": "code",
   "execution_count": 18,
   "metadata": {},
   "outputs": [
    {
     "name": "stdout",
     "output_type": "stream",
     "text": [
      "Java Developer               14\n",
      "HR                           11\n",
      "Database                     11\n",
      "Data Science                 10\n",
      "Advocate                     10\n",
      "Testing                       7\n",
      "Hadoop                        7\n",
      "DotNet Developer              7\n",
      "Automation Testing            7\n",
      "DevOps Engineer               7\n",
      "Arts                          6\n",
      "Python Developer              6\n",
      "SAP Developer                 6\n",
      "Health and fitness            6\n",
      "Business Analyst              6\n",
      "Civil Engineer                6\n",
      "ETL Developer                 5\n",
      "Network Security Engineer     5\n",
      "Web Designing                 5\n",
      "Blockchain                    5\n",
      "Mechanical Engineer           5\n",
      "Sales                         5\n",
      "Electrical Engineering        5\n",
      "Operations Manager            4\n",
      "PMO                           3\n",
      "Name: Category, dtype: int64\n"
     ]
    }
   ],
   "source": [
    "print (resumeDataSet['Category'].value_counts())"
   ]
  },
  {
   "cell_type": "code",
   "execution_count": 19,
   "metadata": {},
   "outputs": [
    {
     "name": "stdout",
     "output_type": "stream",
     "text": [
      "               Category                                             Resume  \\\n",
      "0          Data Science  Skills * Programming Languages: Python (pandas...   \n",
      "1          Data Science  Education Details \\r\\nMay 2013 to May 2017 B.E...   \n",
      "2          Data Science  Areas of Interest Deep Learning, Control Syste...   \n",
      "3          Data Science  Skills â¢ R â¢ Python â¢ SAP HANA â¢ Table...   \n",
      "4          Data Science  Education Details \\r\\n MCA   YMCAUST,  Faridab...   \n",
      "5          Data Science  SKILLS C Basics, IOT, Python, MATLAB, Data Sci...   \n",
      "6          Data Science  Skills â¢ Python â¢ Tableau â¢ Data Visuali...   \n",
      "7          Data Science  Education Details \\r\\n B.Tech   Rayat and Bahr...   \n",
      "8          Data Science  Personal Skills â¢ Ability to quickly grasp t...   \n",
      "9          Data Science  Expertise â Data and Quantitative Analysis â...   \n",
      "10                   HR  TECHNICAL SKILLS â¢ Typewriting â¢ TORA â¢ ...   \n",
      "11                   HR  I.T. Skills â¢ Windows XP, Ms Office (Word, E...   \n",
      "12                   HR  Education Details \\r\\n BA   mumbai UniversityH...   \n",
      "13                   HR  Education Details \\r\\nJune 2012 to May 2015 B....   \n",
      "14                   HR  Education Details \\r\\nJune 2012 to May 2015 B....   \n",
      "15                   HR  Education Details \\r\\n BBA   lovely profession...   \n",
      "16                   HR  Education Details \\r\\n MBA   ACN College of en...   \n",
      "17                   HR  KEY SKILLS: â¢ Computerized accounting with t...   \n",
      "18                   HR  Training in Special Education (Certificate Cou...   \n",
      "19                   HR  Computer Knowledge: â¢ Proficient in basic us...   \n",
      "20                   HR  SOFTWARE SKILLS: â¢ General Computer Proficie...   \n",
      "21             Advocate  TECHNICAL QUALIFICATIONS: â¢ Windows, Ms. Off...   \n",
      "22             Advocate  Education Details \\r\\n B.Com, LL.B.,   Univers...   \n",
      "23             Advocate  Education Details \\r\\n LLB.   Dibrugarh Univer...   \n",
      "24             Advocate  Education Details \\r\\nNovember 2016 to January...   \n",
      "25             Advocate  SKILLS â¢ Knows English as native speaker (IE...   \n",
      "26             Advocate  QUALIFICATION: Introduction to Computer EXTRAE...   \n",
      "27             Advocate  Skills: Natural Languages: Proficient in Engli...   \n",
      "28             Advocate  Skills Legal Writing Efficient researcher Lega...   \n",
      "29             Advocate  Good grasping quality and skillful work Educat...   \n",
      "30             Advocate  â¢ Hard working â¢ Quick learnerEducation De...   \n",
      "31                 Arts  â¢ Good communication skill â¢ Quick learner...   \n",
      "32                 Arts  â¢ Operating Systems: Windows XP / Vista / 07...   \n",
      "33                 Arts  Additional qualifications April 2000, Web Desi...   \n",
      "34                 Arts  Education Details \\r\\nJanuary 2017    Rachana ...   \n",
      "35                 Arts  Education Details \\r\\nAugust 2018 to January 2...   \n",
      "36                 Arts  I Other Skills Course/Skill Name Board Year Of...   \n",
      "37        Web Designing  Technical Skills Web Technologies: Angular JS,...   \n",
      "38        Web Designing  Education Details \\r\\n B.C.A Bachelor Computer...   \n",
      "39        Web Designing  Technical Skills Web Technologies: Angular JS,...   \n",
      "40        Web Designing  Education Details \\r\\nJanuary 2016 B.Sc. Infor...   \n",
      "41        Web Designing  IT SKILLS Languages: C (Basic), JAVA (Basic) W...   \n",
      "42  Mechanical Engineer  Education Details \\r\\nMay 1999 to September 20...   \n",
      "43  Mechanical Engineer  SKILLS: â¢ Knowledge of software / computer: ...   \n",
      "44  Mechanical Engineer  Education Details \\r\\nJanuary 2018 Bachelor's ...   \n",
      "45  Mechanical Engineer  Education Details \\r\\nJune 2014 to June 2018 B...   \n",
      "46  Mechanical Engineer  * I'm hard working person. * I'm self confiden...   \n",
      "47                Sales  Education Details \\r\\n Bachelor's   \\r\\n Bache...   \n",
      "48                Sales  SKILLS 1. MS-Office 2. Good Communication skil...   \n",
      "49                Sales  KEY SKILLS: â¢ Planning & Strategizing â¢ Pr...   \n",
      "\n",
      "                   Domain  \n",
      "0   Information Technlogy  \n",
      "1   Information Technlogy  \n",
      "2   Information Technlogy  \n",
      "3   Information Technlogy  \n",
      "4   Information Technlogy  \n",
      "5   Information Technlogy  \n",
      "6   Information Technlogy  \n",
      "7   Information Technlogy  \n",
      "8   Information Technlogy  \n",
      "9   Information Technlogy  \n",
      "10                     HR  \n",
      "11                     HR  \n",
      "12                     HR  \n",
      "13                     HR  \n",
      "14                     HR  \n",
      "15                     HR  \n",
      "16                     HR  \n",
      "17                     HR  \n",
      "18                     HR  \n",
      "19                     HR  \n",
      "20                     HR  \n",
      "21  Information Technlogy  \n",
      "22  Information Technlogy  \n",
      "23  Information Technlogy  \n",
      "24  Information Technlogy  \n",
      "25  Information Technlogy  \n",
      "26  Information Technlogy  \n",
      "27  Information Technlogy  \n",
      "28  Information Technlogy  \n",
      "29  Information Technlogy  \n",
      "30  Information Technlogy  \n",
      "31                   Arts  \n",
      "32                   Arts  \n",
      "33                   Arts  \n",
      "34                   Arts  \n",
      "35                   Arts  \n",
      "36                   Arts  \n",
      "37  Information Technlogy  \n",
      "38  Information Technlogy  \n",
      "39  Information Technlogy  \n",
      "40  Information Technlogy  \n",
      "41  Information Technlogy  \n",
      "42    Mechanical Engineer  \n",
      "43    Mechanical Engineer  \n",
      "44    Mechanical Engineer  \n",
      "45    Mechanical Engineer  \n",
      "46    Mechanical Engineer  \n",
      "47  Information Technlogy  \n",
      "48  Information Technlogy  \n",
      "49  Information Technlogy  \n"
     ]
    }
   ],
   "source": [
    "print (resumeDataSet.head(50))"
   ]
  },
  {
   "cell_type": "code",
   "execution_count": null,
   "metadata": {},
   "outputs": [],
   "source": []
  },
  {
   "cell_type": "code",
   "execution_count": null,
   "metadata": {},
   "outputs": [],
   "source": []
  },
  {
   "cell_type": "code",
   "execution_count": null,
   "metadata": {},
   "outputs": [],
   "source": []
  }
 ],
 "metadata": {
  "kernelspec": {
   "display_name": "Python 3",
   "language": "python",
   "name": "python3"
  },
  "language_info": {
   "codemirror_mode": {
    "name": "ipython",
    "version": 3
   },
   "file_extension": ".py",
   "mimetype": "text/x-python",
   "name": "python",
   "nbconvert_exporter": "python",
   "pygments_lexer": "ipython3",
   "version": "3.7.6"
  }
 },
 "nbformat": 4,
 "nbformat_minor": 4
}
